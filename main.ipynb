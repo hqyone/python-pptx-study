{
 "cells": [
  {
   "cell_type": "code",
   "execution_count": 128,
   "metadata": {},
   "outputs": [
    {
     "name": "stdout",
     "output_type": "stream",
     "text": [
      "2\n",
      "2\n",
      "2\n",
      "3\n",
      "5\n",
      "1\n",
      "0\n",
      "3\n",
      "3\n",
      "2\n"
     ]
    }
   ],
   "source": [
    "# create a pptx includes all layout\n",
    "from pptx import Presentation\n",
    "from pptx.enum.text import MSO_ANCHOR, MSO_AUTO_SIZE\n",
    "from pptx.dml.color import RGBColor\n",
    "\n",
    "prs = Presentation()\n",
    "for i in range(10):\n",
    "    title_slide_layout = prs.slide_layouts[i]\n",
    "    slide = prs.slides.add_slide(title_slide_layout)\n",
    "    print(len(slide.shapes))\n",
    "    #print(len(slide.placeholders))\n",
    "    if i==0:\n",
    "        title = slide.shapes.title\n",
    "        subtitle = slide.placeholders[1]\n",
    "\n",
    "        text_frame = title.text_frame\n",
    "        text_frame.margin_bottom = Inches(0.08)\n",
    "        text_frame.margin_left = 0\n",
    "        text_frame.vertical_anchor = MSO_ANCHOR.TOP\n",
    "        text_frame.word_wrap = False\n",
    "        text_frame.auto_size = MSO_AUTO_SIZE.SHAPE_TO_FIT_TEXT  \n",
    "        title.text = \"Hello, World!\"\n",
    "\n",
    "\n",
    "        subtitle.text = \"python-pptx was here!\"\n",
    "        for p in subtitle.text_frame.paragraphs:\n",
    "                for r in p.runs:\n",
    "                    r.font.name = 'Calibri'\n",
    "                    r.font.size = Pt(48)\n",
    "                    r.font.bold = True\n",
    "                    r.font.color.rgb = RGBColor(142, 34, 56)\n",
    "prs.save('layout.pptx')"
   ]
  },
  {
   "cell_type": "code",
   "execution_count": 143,
   "metadata": {},
   "outputs": [
    {
     "name": "stdout",
     "output_type": "stream",
     "text": [
      "0 5\n"
     ]
    }
   ],
   "source": [
    "output = \"./output.pptx\"\n",
    "output_prs = Presentation(output)\n",
    "\n",
    "slide = output_prs.slides[0]\n",
    "print(len(slide.placeholders), len(slide.shapes))"
   ]
  },
  {
   "cell_type": "code",
   "execution_count": 135,
   "metadata": {},
   "outputs": [
    {
     "data": {
      "text/plain": [
       "['a']"
      ]
     },
     "execution_count": 135,
     "metadata": {},
     "output_type": "execute_result"
    }
   ],
   "source": [
    "class TableInsertStype(Enum):\n",
    "    FIRST=1\n",
    "    SPLITE=2\n",
    "\n",
    "def InsertDataFrameToSlide(df, slide, max_row=50, InsertType=TableInsertStype.SPLITE, x=2, y=2, cx=2, cy=2):\n",
    "    indexes = df.index\n",
    "    chunks = [indexes[x:x+max_row] for x in range(0, len(indexes), max_row)]\n",
    "    index=0\n",
    "    if InsertType==TableInsertStype.SPLITE:\n",
    "        for ci in chunks:\n",
    "            temp_df = df.loc[ci]\n",
    "            print(temp_df)\n",
    "            _AddTab4Dataframe(temp_df, slide, x=x+index, y=y+index)\n",
    "            index+=1\n",
    "    elif InsertType==TableInsertStype.FIRST:\n",
    "        temp_df = df.loc[chunks[0]]\n",
    "        _AddTab4Dataframe(temp_df, slide, x=x, y=y)\n",
    "    return slide\n",
    "\n",
    "def _AddTab4Dataframe(df, slide, x=2, y=2, cx=1, cy=1):\n",
    "    columns = list(df.columns)\n",
    "    indexes= list(df.index)\n",
    "    shape = slide.shapes.add_table(len(indexes)+1,len(columns)+1, Inches(x), Inches(y), Inches(cx), Inches(cy))\n",
    "    #shape = slide.shapes.add_table(5,5, Inches(x), Inches(y), Inches(cx), Inches(cy))\n",
    "    table = shape.table\n",
    "    table.cell(0,0).text = \"Index\"\n",
    "    for ci, c in enumerate(columns):\n",
    "        print(f\"{ci},{c}\")\n",
    "        table.cell(0,ci+1).text=str(c)\n",
    "    for ii, i in enumerate(indexes):\n",
    "        #print(f'{ii},{i}')\n",
    "        table.cell(ii+1,0).text=str(indexes[ii])\n",
    "        for ci, c in enumerate(columns):\n",
    "            table.cell(ii+1,ci+1).text=str(df.loc[i][c])\n",
    "    return table"
   ]
  },
  {
   "cell_type": "code",
   "execution_count": 153,
   "metadata": {},
   "outputs": [],
   "source": [
    "from enum import Enum\n",
    "import os\n",
    "from pptx.util import Inches, Pt\n",
    "from pptx.enum.shapes import MSO_SHAPE\n",
    "#from pptx import RGBColor\n",
    "\n",
    "# load a pptx as template\n",
    "template = \"./template.pptx\"\n",
    "output = \"./output.pptx\"\n",
    "prs = Presentation(template)\n",
    "\n",
    "# Setup a layout\n",
    "SLD_LAYOUT_TITLE_AND_CONTENT = 1\n",
    "slide_layout = prs.slide_layouts[SLD_LAYOUT_TITLE_AND_CONTENT]\n",
    "slide = prs.slides.add_slide(slide_layout)\n",
    "\n",
    "# s\n",
    "left = top = width = height = Inches(1.0)\n",
    "shapes = slide.shapes\n",
    "shape = shapes.add_shape(\n",
    "     MSO_SHAPE.ROUNDED_RECTANGLE, left, top, width, height\n",
    ")\n",
    "fill = shape.fill\n",
    "fill.solid()\n",
    "#fill.fore_color.rgb = RGBColor(255, 0, 0)\n",
    "\n",
    "x, y, cx, cy = Inches(2), Inches(2), Inches(4), Inches(1.5)\n",
    "shape = slide.shapes.add_table(3, 3, x, y, cx, cy)\n",
    "\n"
   ]
  },
  {
   "cell_type": "code",
   "execution_count": 115,
   "metadata": {},
   "outputs": [
    {
     "ename": "AttributeError",
     "evalue": "'SlidePlaceholder' object has no attribute 'insert_picture'",
     "output_type": "error",
     "traceback": [
      "\u001b[1;31m---------------------------------------------------------------------------\u001b[0m",
      "\u001b[1;31mAttributeError\u001b[0m                            Traceback (most recent call last)",
      "\u001b[1;32m<ipython-input-115-3bf04cb057fd>\u001b[0m in \u001b[0;36m<module>\u001b[1;34m\u001b[0m\n\u001b[0;32m     37\u001b[0m \u001b[0mtitle\u001b[0m \u001b[1;33m=\u001b[0m \u001b[0mslide\u001b[0m\u001b[1;33m.\u001b[0m\u001b[0mshapes\u001b[0m\u001b[1;33m.\u001b[0m\u001b[0mtitle\u001b[0m\u001b[1;33m.\u001b[0m\u001b[0mtext\u001b[0m \u001b[1;33m=\u001b[0m \u001b[1;34m\"This is Powerpoint\"\u001b[0m\u001b[1;33m\u001b[0m\u001b[1;33m\u001b[0m\u001b[0m\n\u001b[0;32m     38\u001b[0m \u001b[0msub\u001b[0m \u001b[1;33m=\u001b[0m \u001b[0mslide\u001b[0m\u001b[1;33m.\u001b[0m\u001b[0mplaceholders\u001b[0m\u001b[1;33m[\u001b[0m\u001b[1;36m1\u001b[0m\u001b[1;33m]\u001b[0m\u001b[1;33m.\u001b[0m\u001b[0mtext\u001b[0m \u001b[1;33m=\u001b[0m \u001b[1;34m\"Python has the power\"\u001b[0m\u001b[1;33m\u001b[0m\u001b[1;33m\u001b[0m\u001b[0m\n\u001b[1;32m---> 39\u001b[1;33m \u001b[0m_add_image\u001b[0m\u001b[1;33m(\u001b[0m\u001b[0mslide\u001b[0m\u001b[1;33m,\u001b[0m\u001b[1;36m1\u001b[0m\u001b[1;33m,\u001b[0m\u001b[1;34m\"./data/test.png\"\u001b[0m\u001b[1;33m)\u001b[0m\u001b[1;33m\u001b[0m\u001b[1;33m\u001b[0m\u001b[0m\n\u001b[0m",
      "\u001b[1;32m<ipython-input-115-3bf04cb057fd>\u001b[0m in \u001b[0;36m_add_image\u001b[1;34m(slide, placeholder_id, image_url)\u001b[0m\n\u001b[0;32m     12\u001b[0m \u001b[1;33m\u001b[0m\u001b[0m\n\u001b[0;32m     13\u001b[0m     \u001b[1;31m# Insert the picture\u001b[0m\u001b[1;33m\u001b[0m\u001b[1;33m\u001b[0m\u001b[1;33m\u001b[0m\u001b[0m\n\u001b[1;32m---> 14\u001b[1;33m     \u001b[0mplaceholder\u001b[0m \u001b[1;33m=\u001b[0m \u001b[0mplaceholder\u001b[0m\u001b[1;33m.\u001b[0m\u001b[0minsert_picture\u001b[0m\u001b[1;33m(\u001b[0m\u001b[0mimage_url\u001b[0m\u001b[1;33m)\u001b[0m\u001b[1;33m\u001b[0m\u001b[1;33m\u001b[0m\u001b[0m\n\u001b[0m\u001b[0;32m     15\u001b[0m \u001b[1;33m\u001b[0m\u001b[0m\n\u001b[0;32m     16\u001b[0m     \u001b[1;31m# Calculate ratios and compare\u001b[0m\u001b[1;33m\u001b[0m\u001b[1;33m\u001b[0m\u001b[1;33m\u001b[0m\u001b[0m\n",
      "\u001b[1;31mAttributeError\u001b[0m: 'SlidePlaceholder' object has no attribute 'insert_picture'"
     ]
    }
   ],
   "source": [
    "from PIL import Image\n",
    "def _add_image(slide, placeholder_id, image_url):\n",
    "    placeholder = slide.placeholders[placeholder_id]\n",
    " \n",
    "    # Calculate the image size of the image\n",
    "    im = Image.open(image_url)\n",
    "    width, height = im.size\n",
    " \n",
    "    # Make sure the placeholder doesn't zoom in\n",
    "    placeholder.height = height\n",
    "    placeholder.width = width\n",
    " \n",
    "    # Insert the picture\n",
    "    placeholder = placeholder.insert_picture(image_url)\n",
    " \n",
    "    # Calculate ratios and compare\n",
    "    image_ratio = width / height\n",
    "    placeholder_ratio = placeholder.width / placeholder.height\n",
    "    ratio_difference = placeholder_ratio - image_ratio\n",
    " \n",
    "    # Placeholder width too wide:\n",
    "    if ratio_difference > 0:\n",
    "        difference_on_each_side = ratio_difference / 2\n",
    "        placeholder.crop_left = -difference_on_each_side\n",
    "        placeholder.crop_right = -difference_on_each_side\n",
    "    # Placeholder height too high\n",
    "    else:\n",
    "        difference_on_each_side = -ratio_difference / 2\n",
    "        placeholder.crop_bottom = -difference_on_each_side\n",
    "        placeholder.crop_top = -difference_on_each_side\n",
    "\n",
    "\n",
    "layout8 = prs.slide_layouts[8]\n",
    "#slide = prs.slides.add_slide(layout8)\n",
    "slide = prs.slides[0]\n",
    " \n",
    "title = slide.shapes.title.text = \"This is Powerpoint\"\n",
    "sub = slide.placeholders[1].text = \"Python has the power\"\n",
    "_add_image(slide,1,\"./data/test.png\")"
   ]
  },
  {
   "cell_type": "code",
   "execution_count": null,
   "metadata": {},
   "outputs": [],
   "source": [
    "# Select a slides from a ppt and set the title\n"
   ]
  },
  {
   "cell_type": "code",
   "execution_count": 154,
   "metadata": {},
   "outputs": [
    {
     "name": "stdout",
     "output_type": "stream",
     "text": [
      "   a bafasfasf    c\n",
      "0  1        2s  3ss\n",
      "0,a\n",
      "1,bafasfasf\n",
      "2,c\n",
      "    a bafasfasf    c\n",
      "1  34        2s  3ss\n",
      "0,a\n",
      "1,bafasfasf\n",
      "2,c\n"
     ]
    },
    {
     "data": {
      "text/plain": [
       "<pptx.slide.Slide at 0x1d140217430>"
      ]
     },
     "execution_count": 154,
     "metadata": {},
     "output_type": "execute_result"
    }
   ],
   "source": [
    "csv = \"./data/test.csv\"\n",
    "import pandas as pd\n",
    "df = pd.read_csv(csv)\n",
    "#print(\"sss\"+str(df.iloc[0][\"a\"]))\n",
    "InsertDataFrameToSlide(df, slide, max_row=1, InsertType=TableInsertStype.SPLITE)"
   ]
  },
  {
   "cell_type": "code",
   "execution_count": 155,
   "metadata": {},
   "outputs": [],
   "source": [
    "prs.save(output)"
   ]
  },
  {
   "cell_type": "code",
   "execution_count": null,
   "metadata": {},
   "outputs": [],
   "source": []
  }
 ],
 "metadata": {
  "interpreter": {
   "hash": "bfbc20483c0ab772587a978896f5313a58f729c45fbab36155e07f281e5391d6"
  },
  "kernelspec": {
   "display_name": "Python 3.7.6 64-bit (conda)",
   "language": "python",
   "name": "python3"
  },
  "language_info": {
   "codemirror_mode": {
    "name": "ipython",
    "version": 3
   },
   "file_extension": ".py",
   "mimetype": "text/x-python",
   "name": "python",
   "nbconvert_exporter": "python",
   "pygments_lexer": "ipython3",
   "version": "3.8.8"
  },
  "orig_nbformat": 4
 },
 "nbformat": 4,
 "nbformat_minor": 2
}
